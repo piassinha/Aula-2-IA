{
  "nbformat": 4,
  "nbformat_minor": 0,
  "metadata": {
    "colab": {
      "provenance": [],
      "authorship_tag": "ABX9TyN+F/bSd81q6ru96Yz5Ct03",
      "include_colab_link": true
    },
    "kernelspec": {
      "name": "python3",
      "display_name": "Python 3"
    },
    "language_info": {
      "name": "python"
    }
  },
  "cells": [
    {
      "cell_type": "markdown",
      "metadata": {
        "id": "view-in-github",
        "colab_type": "text"
      },
      "source": [
        "<a href=\"https://colab.research.google.com/github/piassinha/Aula-2-IA/blob/main/Aula2_Chatbot.ipynb\" target=\"_parent\"><img src=\"https://colab.research.google.com/assets/colab-badge.svg\" alt=\"Open In Colab\"/></a>"
      ]
    },
    {
      "cell_type": "code",
      "execution_count": null,
      "metadata": {
        "id": "7NZdPV9wRzeC"
      },
      "outputs": [],
      "source": [
        "# instalando a biblioteca do Lhama\n",
        "!pip install llama_index.llms.groq"
      ]
    },
    {
      "cell_type": "code",
      "source": [
        "from llama_index.llms.groq import Groq"
      ],
      "metadata": {
        "id": "Q4hLu8nZUxOE"
      },
      "execution_count": 3,
      "outputs": []
    },
    {
      "cell_type": "code",
      "source": [
        "from google.colab import userdata"
      ],
      "metadata": {
        "id": "IUa6ucVKV8D7"
      },
      "execution_count": 6,
      "outputs": []
    },
    {
      "cell_type": "code",
      "source": [
        " groq_api_key= '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'\n",
        " llm = Groq(model='llama3-70b-8192',api_key=groq_api_key)\n",
        " response = llm.complete('Qual semente é indicada para o solo arenoso em maio')\n",
        " response"
      ],
      "metadata": {
        "colab": {
          "base_uri": "https://localhost:8080/"
        },
        "id": "_gPKJbNNaBbp",
        "outputId": "c21c370d-ab7b-4ac3-dc4e-58f1f06f03e8"
      },
      "execution_count": 7,
      "outputs": [
        {
          "output_type": "execute_result",
          "data": {
            "text/plain": [
              "CompletionResponse(text='Excelente pergunta!\\n\\nPara solo arenoso em maio, é importante escolher sementes que sejam adaptadas às condições climáticas e de solo dessa época do ano. Aqui estão algumas opções de sementes que podem se desenvolver bem em solo arenoso em maio:\\n\\n1. **Feijão**: O feijão é uma excelente opção para solo arenoso em maio, pois é uma leguminosa que fixa nitrogênio no solo e tem uma raiz profunda que ajuda a fixar o solo.\\n2. **Cebola**: A cebola é outra opção que se desenvolve bem em solo arenoso em maio. Ela é fácil de cultivar e pode ser plantada em fileiras espaçadas para permitir uma boa circulação de ar e luz solar.\\n3. **Pepino**: O pepino é uma planta que se desenvolve rapidamente em solo arenoso em maio. Ele é uma boa opção para quem busca uma colheita rápida e abundante.\\n4. **Abobrinha**: A abobrinha é outra opção que se desenvolve bem em solo arenoso em maio. Ela é uma planta que requer pouco cuidado e pode ser plantada em fileiras espaçadas.\\n5. **Girassol**: O girassol é uma planta que se desenvolve bem em solo arenoso em maio. Ele é uma boa opção para quem busca uma planta que atrai polinizadores e adiciona beleza ao jardim.\\n\\nLembre-se de que, antes de plantar, é importante preparar o solo adicionando matéria orgânica, como composto ou esterco, para melhorar a estrutura e a fertilidade do solo. Além disso, certifique-se de que o solo esteja bem drenado e com uma boa exposição ao sol.\\n\\nEspero que essas sugestões tenham sido úteis!', additional_kwargs={}, raw=ChatCompletion(id='chatcmpl-5aec0dfd-1a1f-48cd-b975-c4108e6e04a4', choices=[Choice(finish_reason='stop', index=0, logprobs=None, message=ChatCompletionMessage(content='Excelente pergunta!\\n\\nPara solo arenoso em maio, é importante escolher sementes que sejam adaptadas às condições climáticas e de solo dessa época do ano. Aqui estão algumas opções de sementes que podem se desenvolver bem em solo arenoso em maio:\\n\\n1. **Feijão**: O feijão é uma excelente opção para solo arenoso em maio, pois é uma leguminosa que fixa nitrogênio no solo e tem uma raiz profunda que ajuda a fixar o solo.\\n2. **Cebola**: A cebola é outra opção que se desenvolve bem em solo arenoso em maio. Ela é fácil de cultivar e pode ser plantada em fileiras espaçadas para permitir uma boa circulação de ar e luz solar.\\n3. **Pepino**: O pepino é uma planta que se desenvolve rapidamente em solo arenoso em maio. Ele é uma boa opção para quem busca uma colheita rápida e abundante.\\n4. **Abobrinha**: A abobrinha é outra opção que se desenvolve bem em solo arenoso em maio. Ela é uma planta que requer pouco cuidado e pode ser plantada em fileiras espaçadas.\\n5. **Girassol**: O girassol é uma planta que se desenvolve bem em solo arenoso em maio. Ele é uma boa opção para quem busca uma planta que atrai polinizadores e adiciona beleza ao jardim.\\n\\nLembre-se de que, antes de plantar, é importante preparar o solo adicionando matéria orgânica, como composto ou esterco, para melhorar a estrutura e a fertilidade do solo. Além disso, certifique-se de que o solo esteja bem drenado e com uma boa exposição ao sol.\\n\\nEspero que essas sugestões tenham sido úteis!', refusal=None, role='assistant', audio=None, function_call=None, tool_calls=None))], created=1738797432, model='llama3-70b-8192', object='chat.completion', service_tier=None, system_fingerprint='fp_2f30b0b571', usage=CompletionUsage(completion_tokens=420, prompt_tokens=24, total_tokens=444, completion_tokens_details=None, prompt_tokens_details=None, queue_time=1.619178818, prompt_time=0.008695606, completion_time=1.328182655, total_time=1.336878261), x_groq={'id': 'req_01jkc6edmmfm3akxn7d9ypvp91'}), logprobs=None, delta=None)"
            ]
          },
          "metadata": {},
          "execution_count": 7
        }
      ]
    },
    {
      "cell_type": "code",
      "source": [
        "paragrafos = response.text.split(\"\\n\\n\")\n",
        "for paragrafo in paragrafos:\n",
        "  print(paragrafo)\n",
        "  print()"
      ],
      "metadata": {
        "colab": {
          "base_uri": "https://localhost:8080/"
        },
        "id": "RF7DKv8pbJR1",
        "outputId": "4817c636-710b-485a-dd82-eba99d30e280"
      },
      "execution_count": 14,
      "outputs": [
        {
          "output_type": "stream",
          "name": "stdout",
          "text": [
            "Excelente pergunta!\n",
            "\n",
            "Para solo arenoso em maio, é importante escolher sementes que sejam adaptadas às condições climáticas e de solo dessa época do ano. Aqui estão algumas opções de sementes que podem se desenvolver bem em solo arenoso em maio:\n",
            "\n",
            "1. **Feijão**: O feijão é uma excelente opção para solo arenoso em maio, pois é uma leguminosa que fixa nitrogênio no solo e tem uma raiz profunda que ajuda a fixar o solo.\n",
            "2. **Cebola**: A cebola é outra opção que se desenvolve bem em solo arenoso em maio. Ela é fácil de cultivar e pode ser plantada em fileiras espaçadas para permitir uma boa circulação de ar e luz solar.\n",
            "3. **Pepino**: O pepino é uma planta que se desenvolve rapidamente em solo arenoso em maio. Ele é uma boa opção para quem busca uma colheita rápida e abundante.\n",
            "4. **Abobrinha**: A abobrinha é outra opção que se desenvolve bem em solo arenoso em maio. Ela é uma planta que requer pouco cuidado e pode ser plantada em fileiras espaçadas.\n",
            "5. **Girassol**: O girassol é uma planta que se desenvolve bem em solo arenoso em maio. Ele é uma boa opção para quem busca uma planta que atrai polinizadores e adiciona beleza ao jardim.\n",
            "\n",
            "Lembre-se de que, antes de plantar, é importante preparar o solo adicionando matéria orgânica, como composto ou esterco, para melhorar a estrutura e a fertilidade do solo. Além disso, certifique-se de que o solo esteja bem drenado e com uma boa exposição ao sol.\n",
            "\n",
            "Espero que essas sugestões tenham sido úteis!\n",
            "\n"
          ]
        }
      ]
    }
  ]
}